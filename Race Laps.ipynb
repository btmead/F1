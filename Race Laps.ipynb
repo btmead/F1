{
 "cells": [
  {
   "cell_type": "code",
   "execution_count": 1,
   "metadata": {
    "collapsed": true
   },
   "outputs": [
    {
     "name": "stderr",
     "output_type": "stream",
     "text": [
      "core           INFO \tLoading data for British Grand Prix - Race [v2.3.0]\n",
      "api            INFO \tUsing cached data for driver_info\n",
      "api            INFO \tUsing cached data for timing_data\n",
      "api            INFO \tUsing cached data for timing_app_data\n",
      "core           INFO \tProcessing timing data...\n",
      "api            INFO \tUsing cached data for session_status_data\n",
      "api            INFO \tUsing cached data for track_status_data\n",
      "api            INFO \tUsing cached data for car_data\n",
      "api            INFO \tUsing cached data for position_data\n",
      "api            INFO \tUsing cached data for weather_data\n",
      "api            INFO \tUsing cached data for race_control_messages\n",
      "core           INFO \tFinished loading data for 20 drivers: ['44', '16', '77', '4', '3', '55', '14', '18', '31', '22', '10', '63', '99', '6', '7', '11', '9', '47', '5', '33']\n"
     ]
    }
   ],
   "source": [
    "import fastf1 as ff1\n",
    "from fastf1 import plotting\n",
    "from fastf1 import utils\n",
    "\n",
    "ff1.plotting.setup_mpl()\n",
    "\n",
    "from matplotlib import pyplot as plt\n",
    "from matplotlib.pyplot import figure\n",
    "\n",
    "import os\n",
    "\n",
    "import numpy as np\n",
    "import pandas as pd\n",
    "\n",
    "ff1.Cache.enable_cache('C:/Users/benme/OneDrive - The Perse School/Formula 1')\n",
    "race_name, race_year = input(\"Enter race name\"), int(input(\"Enter race year\"))\n",
    "race = ff1.get_session(race_year, race_name, 'R')\n",
    "race.load()"
   ]
  },
  {
   "cell_type": "code",
   "execution_count": 6,
   "outputs": [],
   "source": [
    "race.laps.pick_accurate().filter(items = ['Driver', 'LapTime', 'Compound', 'LapNumber', 'FreshTyre', 'TrackStatus', 'Stint']).to_excel('British GP 2021.xlsx')"
   ],
   "metadata": {
    "collapsed": false
   }
  },
  {
   "cell_type": "code",
   "execution_count": null,
   "outputs": [],
   "source": [],
   "metadata": {
    "collapsed": false
   }
  }
 ],
 "metadata": {
  "kernelspec": {
   "display_name": "Python 3",
   "language": "python",
   "name": "python3"
  },
  "language_info": {
   "codemirror_mode": {
    "name": "ipython",
    "version": 2
   },
   "file_extension": ".py",
   "mimetype": "text/x-python",
   "name": "python",
   "nbconvert_exporter": "python",
   "pygments_lexer": "ipython2",
   "version": "2.7.6"
  }
 },
 "nbformat": 4,
 "nbformat_minor": 0
}
