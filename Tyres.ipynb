{
 "cells": [
  {
   "cell_type": "code",
   "execution_count": 2,
   "metadata": {
    "collapsed": true
   },
   "outputs": [],
   "source": [
    "import pickle\n",
    "import pandas as pd"
   ]
  },
  {
   "cell_type": "code",
   "execution_count": 10,
   "outputs": [],
   "source": [
    "for race_year in range(2019, 2023):\n",
    "    tyres_year_excel = pd.read_excel(f'{race_year} Tyres.xlsx')\n",
    "    tyres_year = {}\n",
    "    tyre_list = []\n",
    "    tyres_year = {}\n",
    "    for n in range(len(tyres_year_excel)):\n",
    "        tyre_list = []\n",
    "        race_tyre = tyres_year_excel.iloc[[n]]\n",
    "        if not (race_tyre['C1'].to_string(index=False) == 'NaN' or race_tyre['C1'].to_string(index=False) == ' '):\n",
    "            tyre_list.append('C1')\n",
    "        if not (race_tyre['C2'].to_string(index=False) == 'NaN' or race_tyre['C2'].to_string(index=False) == ' '):\n",
    "            tyre_list.append('C2')\n",
    "        if not (race_tyre['C3'].to_string(index=False) == 'NaN' or race_tyre['C3'].to_string(index=False) == ' '):\n",
    "            tyre_list.append('C3')\n",
    "        if not (race_tyre['C4'].to_string(index=False) == 'NaN' or race_tyre['C4'].to_string(index=False) == ' '):\n",
    "            tyre_list.append('C4')\n",
    "        if not (race_tyre['C5'].to_string(index=False) == 'NaN' or race_tyre['C5'].to_string(index=False) == ' '):\n",
    "            tyre_list.append('C5')\n",
    "        tyres_year[race_tyre['Race Name'].to_string(index=False)] = tyre_list\n",
    "    try:\n",
    "        tyres_year_file = open(f'tyres_{race_year}.pickle', 'wb')\n",
    "        pickle.dump(tyres_year, tyres_year_file)\n",
    "        tyres_year_file.close()\n",
    "    except:\n",
    "        print(\"NOOOOO\")\n",
    "else:\n",
    "    tyres_year = []\n",
    "    tyres_year = ['ultrasoft', 'hypersoft', 'supersoft', 'soft', 'medium', 'hard']"
   ],
   "metadata": {
    "collapsed": false
   }
  },
  {
   "cell_type": "code",
   "execution_count": null,
   "outputs": [],
   "source": [],
   "metadata": {
    "collapsed": false
   }
  }
 ],
 "metadata": {
  "kernelspec": {
   "display_name": "Python 3",
   "language": "python",
   "name": "python3"
  },
  "language_info": {
   "codemirror_mode": {
    "name": "ipython",
    "version": 2
   },
   "file_extension": ".py",
   "mimetype": "text/x-python",
   "name": "python",
   "nbconvert_exporter": "python",
   "pygments_lexer": "ipython2",
   "version": "2.7.6"
  }
 },
 "nbformat": 4,
 "nbformat_minor": 0
}
