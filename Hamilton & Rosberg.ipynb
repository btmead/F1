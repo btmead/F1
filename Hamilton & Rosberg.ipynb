{
 "cells": [
  {
   "cell_type": "code",
   "execution_count": 4,
   "metadata": {
    "collapsed": true
   },
   "outputs": [
    {
     "name": "stderr",
     "output_type": "stream",
     "text": [
      "core           INFO \tLoading data for Australian Grand Prix - Race [v2.3.0]\n",
      "api            INFO \tUsing cached data for driver_info\n",
      "api            INFO \tUsing cached data for timing_data\n",
      "api            INFO \tUsing cached data for timing_app_data\n",
      "core           INFO \tProcessing timing data...\n",
      "api            INFO \tUsing cached data for session_status_data\n",
      "api            INFO \tUsing cached data for track_status_data\n",
      "api            INFO \tUsing cached data for car_data\n",
      "api            INFO \tNo cached data found for position_data. Loading data...\n",
      "api            INFO \tFetching position data...\n",
      "core        WARNING \tFailed to load telemetry data!\n",
      "api            INFO \tUsing cached data for weather_data\n",
      "api            INFO \tUsing cached data for race_control_messages\n",
      "core           INFO \tFinished loading data for 20 drivers: ['5', '44', '7', '3', '14', '33', '27', '77', '2', '55', '11', '31', '16', '18', '28', '8', '20', '10', '9', '35']\n"
     ]
    }
   ],
   "source": [
    "import matplotlib.pyplot as plt\n",
    "import fastf1.plotting\n",
    "\n",
    "fastf1.Cache.enable_cache('C:/Users/benme/OneDrive - The Perse School/Formula 1')\n",
    "fastf1.plotting.setup_mpl()\n",
    "\n",
    "session = fastf1.get_session(2018, 'Australia', 'R')\n",
    "session.load()"
   ]
  },
  {
   "cell_type": "code",
   "execution_count": 5,
   "outputs": [
    {
     "ename": "TypeError",
     "evalue": "'SessionResults' object is not callable",
     "output_type": "error",
     "traceback": [
      "\u001B[1;31m---------------------------------------------------------------------------\u001B[0m",
      "\u001B[1;31mTypeError\u001B[0m                                 Traceback (most recent call last)",
      "Input \u001B[1;32mIn [5]\u001B[0m, in \u001B[0;36m<cell line: 1>\u001B[1;34m()\u001B[0m\n\u001B[1;32m----> 1\u001B[0m \u001B[43msession\u001B[49m\u001B[38;5;241;43m.\u001B[39;49m\u001B[43mresults\u001B[49m\u001B[43m(\u001B[49m\u001B[43m)\u001B[49m\n",
      "\u001B[1;31mTypeError\u001B[0m: 'SessionResults' object is not callable"
     ]
    }
   ],
   "source": [
    "session.results()"
   ],
   "metadata": {
    "collapsed": false
   }
  },
  {
   "cell_type": "code",
   "execution_count": 6,
   "outputs": [
    {
     "name": "stdout",
     "output_type": "stream",
     "text": [
      "   DriverNumber BroadcastName Abbreviation         TeamName TeamColor  \\\n",
      "5             5      S VETTEL          VET          Ferrari    DC0000   \n",
      "44           44    L HAMILTON          HAM         Mercedes    00D2BE   \n",
      "7             7   K RAIKKONEN          RAI          Ferrari    DC0000   \n",
      "3             3   D RICCIARDO          RIC  Red Bull Racing    1E41FF   \n",
      "14           14      F ALONSO          ALO          McLaren    FF8700   \n",
      "33           33  M VERSTAPPEN          VER  Red Bull Racing    1E41FF   \n",
      "27           27  N HULKENBERG          HUL          Renault    FFF500   \n",
      "77           77      V BOTTAS          BOT         Mercedes    00D2BE   \n",
      "2             2   S VANDOORNE          VAN          McLaren    FF8700   \n",
      "55           55       C SAINZ          SAI          Renault    FFF500   \n",
      "11           11       S PEREZ          PER      Force India    F596C8   \n",
      "31           31        E OCON          OCO      Force India    F596C8   \n",
      "16           16     C LECLERC          LEC           Sauber    9B0000   \n",
      "18           18      L STROLL          STR         Williams    FFFFFF   \n",
      "28           28     B HARTLEY          HAR       Toro Rosso    469BFF   \n",
      "8             8    R GROSJEAN          GRO     Haas F1 Team    828282   \n",
      "20           20   K MAGNUSSEN          MAG     Haas F1 Team    828282   \n",
      "10           10       P GASLY          GAS       Toro Rosso    469BFF   \n",
      "9             9    M ERICSSON          ERI           Sauber    9B0000   \n",
      "35           35    S SIROTKIN          SIR         Williams    FFFFFF   \n",
      "\n",
      "    FirstName    LastName           FullName  Position  GridPosition  Q1  Q2  \\\n",
      "5   Sebastian      Vettel   Sebastian Vettel       1.0           3.0 NaT NaT   \n",
      "44      Lewis    Hamilton     Lewis Hamilton       2.0           1.0 NaT NaT   \n",
      "7        Kimi   Räikkönen     Kimi Räikkönen       3.0           2.0 NaT NaT   \n",
      "3      Daniel   Ricciardo   Daniel Ricciardo       4.0           8.0 NaT NaT   \n",
      "14   Fernando      Alonso    Fernando Alonso       5.0          10.0 NaT NaT   \n",
      "33        Max  Verstappen     Max Verstappen       6.0           4.0 NaT NaT   \n",
      "27       Nico  Hulkenberg    Nico Hulkenberg       7.0           7.0 NaT NaT   \n",
      "77   Valtteri      Bottas    Valtteri Bottas       8.0          15.0 NaT NaT   \n",
      "2     Stoffel   Vandoorne  Stoffel Vandoorne       9.0          11.0 NaT NaT   \n",
      "55     Carlos       Sainz       Carlos Sainz      10.0           9.0 NaT NaT   \n",
      "11     Sergio       Perez       Sergio Perez      11.0          12.0 NaT NaT   \n",
      "31    Esteban        Ocon       Esteban Ocon      12.0          14.0 NaT NaT   \n",
      "16    Charles     Leclerc    Charles Leclerc      13.0          18.0 NaT NaT   \n",
      "18      Lance      Stroll       Lance Stroll      14.0          13.0 NaT NaT   \n",
      "28    Brendon     Hartley    Brendon Hartley      15.0          16.0 NaT NaT   \n",
      "8      Romain    Grosjean    Romain Grosjean      16.0           6.0 NaT NaT   \n",
      "20      Kevin   Magnussen    Kevin Magnussen      17.0           5.0 NaT NaT   \n",
      "10     Pierre       Gasly       Pierre Gasly      18.0          20.0 NaT NaT   \n",
      "9      Marcus    Ericsson    Marcus Ericsson      19.0          17.0 NaT NaT   \n",
      "35     Sergey    Sirotkin    Sergey Sirotkin      20.0          19.0 NaT NaT   \n",
      "\n",
      "    Q3                   Time    Status  Points  \n",
      "5  NaT 0 days 01:29:33.283000  Finished    25.0  \n",
      "44 NaT 0 days 01:29:38.319000  Finished    18.0  \n",
      "7  NaT 0 days 01:29:39.592000  Finished    15.0  \n",
      "3  NaT 0 days 01:29:40.352000  Finished    12.0  \n",
      "14 NaT 0 days 01:30:01.169000  Finished    10.0  \n",
      "33 NaT 0 days 01:30:02.228000  Finished     8.0  \n",
      "27 NaT 0 days 01:30:05.954000  Finished     6.0  \n",
      "77 NaT 0 days 01:30:07.622000  Finished     4.0  \n",
      "2  NaT 0 days 01:30:08.204000  Finished     2.0  \n",
      "55 NaT 0 days 01:30:19.005000  Finished     1.0  \n",
      "11 NaT 0 days 01:30:20.100000  Finished     0.0  \n",
      "31 NaT 0 days 01:30:33.561000  Finished     0.0  \n",
      "16 NaT 0 days 01:30:49.042000  Finished     0.0  \n",
      "18 NaT 0 days 01:30:51.571000  Finished     0.0  \n",
      "28 NaT                    NaT    +1 Lap     0.0  \n",
      "8  NaT                    NaT     Wheel     0.0  \n",
      "20 NaT                    NaT     Wheel     0.0  \n",
      "10 NaT                    NaT    Engine     0.0  \n",
      "9  NaT                    NaT  Steering     0.0  \n",
      "35 NaT                    NaT    Brakes     0.0  \n"
     ]
    }
   ],
   "source": [
    "print(session.results)"
   ],
   "metadata": {
    "collapsed": false
   }
  },
  {
   "cell_type": "code",
   "execution_count": 16,
   "outputs": [],
   "source": [
    "laps = session.laps"
   ],
   "metadata": {
    "collapsed": false
   }
  },
  {
   "cell_type": "code",
   "execution_count": 17,
   "outputs": [],
   "source": [
    "laps.to_excel(r'C:\\Users\\benme\\OneDrive - The Perse School\\Formula 1\\2018\\2018-03-25_Australian_Grand_Prix\\2018-03-25_Race\\Session Laps.xlsx', index=False)"
   ],
   "metadata": {
    "collapsed": false
   }
  },
  {
   "cell_type": "code",
   "execution_count": null,
   "outputs": [],
   "source": [],
   "metadata": {
    "collapsed": false
   }
  }
 ],
 "metadata": {
  "kernelspec": {
   "display_name": "Python 3",
   "language": "python",
   "name": "python3"
  },
  "language_info": {
   "codemirror_mode": {
    "name": "ipython",
    "version": 2
   },
   "file_extension": ".py",
   "mimetype": "text/x-python",
   "name": "python",
   "nbconvert_exporter": "python",
   "pygments_lexer": "ipython2",
   "version": "2.7.6"
  }
 },
 "nbformat": 4,
 "nbformat_minor": 0
}
