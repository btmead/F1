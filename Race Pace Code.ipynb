{
 "cells": [
  {
   "cell_type": "code",
   "execution_count": null,
   "metadata": {
    "collapsed": true
   },
   "outputs": [],
   "source": [
    "import pandas as pd\n",
    "\n",
    "from Base import *"
   ]
  },
  {
   "cell_type": "code",
   "execution_count": null,
   "outputs": [],
   "source": [
    "session = ff1.get_event(2022, 'Monza').get_race()\n",
    "session.load()\n",
    "alllaps = session.laps\n",
    "alllaps.columns"
   ],
   "metadata": {
    "collapsed": false
   }
  },
  {
   "cell_type": "code",
   "execution_count": null,
   "outputs": [],
   "source": [
    "groupedLaps = alllaps.groupby('DriverNumber')\n",
    "\n",
    "lap_list = []\n",
    "number = 1\n",
    "\n",
    "with pd.ExcelWriter('2022 Italian Grand Prix Lap Deltas.xlsx') as writer:\n",
    "    for group_name, group_df in groupedLaps:\n",
    "        avg_lap = group_df.loc[group_df['IsAccurate'], 'LapTime'].mean()\n",
    "        for lap in group_df.itertuples(index=False):\n",
    "            if not lap.LapTime or lap.IsAccurate != True:\n",
    "                lap_list.append('NaN')\n",
    "            else:\n",
    "                laptime = lap.LapTime - avg_lap\n",
    "                lap_list.append(laptime)\n",
    "        delta_col = pd.Series(lap_list, name = 'DeltaTime')\n",
    "        group_df = pd.concat([group_df, delta_col], axis = 1)\n",
    "\n",
    "        ax = plt.subplot(20, 1, number)\n",
    "        ax = plt.gca()\n",
    "        ax.plot(group_df['LapNumber'], group_df['DeltaTime'], linewidth = 10)\n",
    "        ax.set(xlabel='Lap Number', ylabel='Delta Time', title=f\"{group_name} Laps\")\n",
    "        #group_df.to_excel(writer, sheet_name = group_name, index = False)\n",
    "        number += 1\n",
    "    plt.savefig('test.png')"
   ],
   "metadata": {
    "collapsed": false
   }
  },
  {
   "cell_type": "code",
   "execution_count": null,
   "outputs": [],
   "source": [
    "plt.style.use('ggplot')\n",
    "plt.rcParams['figure.figsize'] = (120,600)\n",
    "plt.rcParams['text.color'] = 'b'\n",
    "plt.rcParams['legend.labelcolor'] = 'w'\n",
    "plt.rcParams['font.size'] = 40\n",
    "ax = plt.subplot()\n",
    "\n"
   ],
   "metadata": {
    "collapsed": false
   }
  },
  {
   "cell_type": "code",
   "execution_count": null,
   "outputs": [],
   "source": [
    "with pd.ExcelWriter('2022 Italian Grand Prix Lap Deltas.xlsx') as writer:\n",
    "    for group_name, group_df in groupedLaps:\n",
    "        for row in group_df.itertuples(index = True):\n",
    "            index = row.Index\n",
    "\n",
    "            laptimevalue = row.LapTime\n",
    "            newvalue = laptimevalue + pd.Timedelta(seconds = (0.052 * index))\n",
    "            group_df.at[index, 'LapTime'] = newvalue\n",
    "\n",
    "            group_df.to_excel(writer, sheet_name=group_name)"
   ],
   "metadata": {
    "collapsed": false
   }
  },
  {
   "cell_type": "code",
   "execution_count": null,
   "outputs": [],
   "source": [
    "FUELDELTA = 0.052\n",
    "\n",
    "alllaps = alllaps.pick_accurate().pick_track_status('1')\n",
    "\n",
    "for row in alllaps.itertuples(index = True):\n",
    "    index = row.Index\n",
    "\n",
    "    laptimevalue = row.LapTime\n",
    "    newvalue = laptimevalue + pd.Timedelta(seconds = (FUELDELTA * (row.LapNumber - 1)))\n",
    "    alllaps.at[index, 'FuelAdjustedLapTime'] = newvalue"
   ],
   "metadata": {
    "collapsed": false
   }
  },
  {
   "cell_type": "code",
   "execution_count": null,
   "outputs": [],
   "source": [
    "from scipy.stats import linregress\n",
    "\n",
    "groupedLaps = alllaps.groupby('Driver')\n",
    "regression_df = pd.DataFrame(columns=['Compound', 'Slope', 'Intercept', 'R Value', 'P Value', 'Standard Error', 'No of Laps', 'Laps Till End', 'Team'])\n",
    "\n",
    "for driver_name, driver_df in groupedLaps:\n",
    "\n",
    "    groupedStints = driver_df.groupby('Stint')\n",
    "\n",
    "    for stint_name, stint_df in groupedStints:\n",
    "        stint_df['NumericalTime'] = stint_df['FuelAdjustedLapTime'].dt.total_seconds()\n",
    "\n",
    "        no_laps = len(stint_df)\n",
    "        laps_till_end = alllaps['LapNumber'].max() - stint_df['LapNumber'].min()\n",
    "        team = stint_df['Team'].iloc[0]\n",
    "        compound = stint_df['Compound'].iloc[0]\n",
    "\n",
    "        slope, intercept, r_value, p_value, std_err = linregress(stint_df['LapNumber'], stint_df['NumericalTime'])\n",
    "\n",
    "        regression_df.loc[f'{driver_name} -  Stint {stint_name}'] = [compound, slope, intercept, r_value, p_value, std_err, no_laps, laps_till_end, team]"
   ],
   "metadata": {
    "collapsed": false
   }
  },
  {
   "cell_type": "code",
   "execution_count": null,
   "outputs": [],
   "source": [
    "regression_df"
   ],
   "metadata": {
    "collapsed": false
   }
  },
  {
   "cell_type": "code",
   "execution_count": null,
   "outputs": [],
   "source": [
    "alllaps.to_excel('test.xlsx')"
   ],
   "metadata": {
    "collapsed": false
   }
  }
 ],
 "metadata": {
  "kernelspec": {
   "display_name": "Python 3",
   "language": "python",
   "name": "python3"
  },
  "language_info": {
   "codemirror_mode": {
    "name": "ipython",
    "version": 2
   },
   "file_extension": ".py",
   "mimetype": "text/x-python",
   "name": "python",
   "nbconvert_exporter": "python",
   "pygments_lexer": "ipython2",
   "version": "2.7.6"
  }
 },
 "nbformat": 4,
 "nbformat_minor": 0
}
