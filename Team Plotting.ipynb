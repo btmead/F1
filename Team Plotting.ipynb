{
 "cells": [
  {
   "cell_type": "code",
   "execution_count": 1,
   "metadata": {
    "collapsed": true
   },
   "outputs": [],
   "source": [
    "import matplotlib.pyplot as plt\n",
    "\n",
    "from Base import *"
   ]
  },
  {
   "cell_type": "code",
   "execution_count": 2,
   "outputs": [
    {
     "data": {
      "text/plain": "                  Team                      Event  Event Number  \\\n0    Alfa Romeo Racing         Bahrain Grand Prix             1   \n1    Alfa Romeo Racing  Emilia Romagna Grand Prix             2   \n2    Alfa Romeo Racing      Portuguese Grand Prix             3   \n3    Alfa Romeo Racing         Spanish Grand Prix             4   \n4    Alfa Romeo Racing          Monaco Grand Prix             5   \n..                 ...                        ...           ...   \n193           Williams     Mexico City Grand Prix            18   \n194           Williams       São Paulo Grand Prix            19   \n195           Williams           Qatar Grand Prix            20   \n196           Williams   Saudi Arabian Grand Prix            21   \n197           Williams       Abu Dhabi Grand Prix            22   \n\n     Delta Degradation  Delta Laptime  Unnamed: 5  Unnamed: 6  Unnamed: 7  \n0             0.000000       1.591940         NaN         NaN         NaN  \n1             0.051582       1.415198         NaN         NaN         NaN  \n2             0.015877       1.211713         NaN         NaN         NaN  \n3             0.034509       2.330039         NaN         NaN         NaN  \n4             0.039381       1.343838         NaN         NaN         NaN  \n..                 ...            ...         ...         ...         ...  \n193           0.045631       2.598507         NaN         NaN         NaN  \n194           0.010231       2.247096         NaN         NaN         NaN  \n195           0.060417       2.597241         NaN         NaN         NaN  \n196           0.000000       2.944412         NaN         NaN         NaN  \n197           0.120510       2.762725         NaN         NaN         NaN  \n\n[198 rows x 8 columns]",
      "text/html": "<div>\n<style scoped>\n    .dataframe tbody tr th:only-of-type {\n        vertical-align: middle;\n    }\n\n    .dataframe tbody tr th {\n        vertical-align: top;\n    }\n\n    .dataframe thead th {\n        text-align: right;\n    }\n</style>\n<table border=\"1\" class=\"dataframe\">\n  <thead>\n    <tr style=\"text-align: right;\">\n      <th></th>\n      <th>Team</th>\n      <th>Event</th>\n      <th>Event Number</th>\n      <th>Delta Degradation</th>\n      <th>Delta Laptime</th>\n      <th>Unnamed: 5</th>\n      <th>Unnamed: 6</th>\n      <th>Unnamed: 7</th>\n    </tr>\n  </thead>\n  <tbody>\n    <tr>\n      <th>0</th>\n      <td>Alfa Romeo Racing</td>\n      <td>Bahrain Grand Prix</td>\n      <td>1</td>\n      <td>0.000000</td>\n      <td>1.591940</td>\n      <td>NaN</td>\n      <td>NaN</td>\n      <td>NaN</td>\n    </tr>\n    <tr>\n      <th>1</th>\n      <td>Alfa Romeo Racing</td>\n      <td>Emilia Romagna Grand Prix</td>\n      <td>2</td>\n      <td>0.051582</td>\n      <td>1.415198</td>\n      <td>NaN</td>\n      <td>NaN</td>\n      <td>NaN</td>\n    </tr>\n    <tr>\n      <th>2</th>\n      <td>Alfa Romeo Racing</td>\n      <td>Portuguese Grand Prix</td>\n      <td>3</td>\n      <td>0.015877</td>\n      <td>1.211713</td>\n      <td>NaN</td>\n      <td>NaN</td>\n      <td>NaN</td>\n    </tr>\n    <tr>\n      <th>3</th>\n      <td>Alfa Romeo Racing</td>\n      <td>Spanish Grand Prix</td>\n      <td>4</td>\n      <td>0.034509</td>\n      <td>2.330039</td>\n      <td>NaN</td>\n      <td>NaN</td>\n      <td>NaN</td>\n    </tr>\n    <tr>\n      <th>4</th>\n      <td>Alfa Romeo Racing</td>\n      <td>Monaco Grand Prix</td>\n      <td>5</td>\n      <td>0.039381</td>\n      <td>1.343838</td>\n      <td>NaN</td>\n      <td>NaN</td>\n      <td>NaN</td>\n    </tr>\n    <tr>\n      <th>...</th>\n      <td>...</td>\n      <td>...</td>\n      <td>...</td>\n      <td>...</td>\n      <td>...</td>\n      <td>...</td>\n      <td>...</td>\n      <td>...</td>\n    </tr>\n    <tr>\n      <th>193</th>\n      <td>Williams</td>\n      <td>Mexico City Grand Prix</td>\n      <td>18</td>\n      <td>0.045631</td>\n      <td>2.598507</td>\n      <td>NaN</td>\n      <td>NaN</td>\n      <td>NaN</td>\n    </tr>\n    <tr>\n      <th>194</th>\n      <td>Williams</td>\n      <td>São Paulo Grand Prix</td>\n      <td>19</td>\n      <td>0.010231</td>\n      <td>2.247096</td>\n      <td>NaN</td>\n      <td>NaN</td>\n      <td>NaN</td>\n    </tr>\n    <tr>\n      <th>195</th>\n      <td>Williams</td>\n      <td>Qatar Grand Prix</td>\n      <td>20</td>\n      <td>0.060417</td>\n      <td>2.597241</td>\n      <td>NaN</td>\n      <td>NaN</td>\n      <td>NaN</td>\n    </tr>\n    <tr>\n      <th>196</th>\n      <td>Williams</td>\n      <td>Saudi Arabian Grand Prix</td>\n      <td>21</td>\n      <td>0.000000</td>\n      <td>2.944412</td>\n      <td>NaN</td>\n      <td>NaN</td>\n      <td>NaN</td>\n    </tr>\n    <tr>\n      <th>197</th>\n      <td>Williams</td>\n      <td>Abu Dhabi Grand Prix</td>\n      <td>22</td>\n      <td>0.120510</td>\n      <td>2.762725</td>\n      <td>NaN</td>\n      <td>NaN</td>\n      <td>NaN</td>\n    </tr>\n  </tbody>\n</table>\n<p>198 rows × 8 columns</p>\n</div>"
     },
     "execution_count": 2,
     "metadata": {},
     "output_type": "execute_result"
    }
   ],
   "source": [
    "master_df = pd.read_excel('2021 Season Test.xlsx', sheet_name='Difference to Best')\n",
    "master_df"
   ],
   "metadata": {
    "collapsed": false
   }
  },
  {
   "cell_type": "code",
   "execution_count": 6,
   "outputs": [],
   "source": [
    "groupedTeams = master_df.groupby('Team')\n",
    "\n",
    "for team_name, team_df in groupedTeams:\n",
    "    team_df = team_df.sort_values(by='Event Number', ascending=True)\n",
    "\n",
    "    fig, (ax1, ax2) = plt.subplots(ncols=2, figsize=(200, 100), facecolor='w', gridspec_kw={'width_ratios': [7,3]})\n",
    "    ax1.tick_params(axis='both', which='major', labelsize=150, colors='black')\n",
    "    fig.set_facecolor('white')\n",
    "\n",
    "    ax1.set_facecolor('white')\n",
    "\n",
    "    team_df.plot(kind='line', x='Event Number', y='Delta Degradation', ax=ax1, linewidth=10, fontsize=150)\n",
    "\n",
    "    ax2.axis('off')\n",
    "    table = ax2.table(cellText=team_df.loc[:, ['Event Number', 'Delta Degradation']].values, colLabels=['Event Number', 'Delta Degradation'], cellLoc='center', loc='center', bbox=[0.0, 0.0, 0.5, 1.0])\n",
    "\n",
    "    for i in range(len(team_df)+1):\n",
    "        for j in range(2):\n",
    "            cell = table.get_celld()[i,j]\n",
    "            cell.set_text_props(fontsize=200, color='black')\n",
    "\n",
    "    fig.savefig((f'Graphs/{team_name} Deg Plot.png'), bbox_inches='tight', pad_inches=0.5, format='png')\n",
    "\n",
    "    plt.close(fig)"
   ],
   "metadata": {
    "collapsed": false
   }
  },
  {
   "cell_type": "code",
   "execution_count": null,
   "outputs": [],
   "source": [],
   "metadata": {
    "collapsed": false
   }
  }
 ],
 "metadata": {
  "kernelspec": {
   "display_name": "Python 3",
   "language": "python",
   "name": "python3"
  },
  "language_info": {
   "codemirror_mode": {
    "name": "ipython",
    "version": 2
   },
   "file_extension": ".py",
   "mimetype": "text/x-python",
   "name": "python",
   "nbconvert_exporter": "python",
   "pygments_lexer": "ipython2",
   "version": "2.7.6"
  }
 },
 "nbformat": 4,
 "nbformat_minor": 0
}
