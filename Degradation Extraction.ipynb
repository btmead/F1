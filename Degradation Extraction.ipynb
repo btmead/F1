{
 "cells": [
  {
   "cell_type": "code",
   "execution_count": 2,
   "outputs": [],
   "source": [
    "##-----Imports-----##\n",
    "from Base import *"
   ],
   "metadata": {
    "collapsed": false
   }
  },
  {
   "cell_type": "code",
   "execution_count": 3,
   "outputs": [],
   "source": [
    "##-----Constants-----##\n",
    "MASSTIMECOEFF = 0.03\n",
    "MAXWEIGHT = 100\n",
    "YEAR = 2021\n",
    "FILE_NAME = '2021 Season.xlsx'\n",
    "FASTEST_TEAM = 'Mercedes'\n",
    "\n",
    "##-----Lists & Dictionaries-----##\n",
    "event_dict = {}\n",
    "baseline_dict = {}\n",
    "event_list = []\n",
    "\n",
    "##-----Dataframes-----##\n",
    "fullregression_df = pd.DataFrame(columns=['Driver', 'Stint', 'Compound', 'Slope', 'Intercept', 'R Value', 'Standard Error', 'No of Laps', 'Laps Till End', 'Team', 'Grand Prix'])\n",
    "regression_df = pd.DataFrame(columns=['Compound', 'Slope', 'Intercept', 'R Value', 'Standard Error', 'No of Laps', 'Laps Till End', 'Team', 'Average Lap Time'])\n",
    "avgdeg_df = pd.DataFrame(columns = ['Team', 'Compound', 'Average Degradation', 'No of Laps','Average Lap Time', 'Delta Lap Time'])\n",
    "eventdeg_df = pd.DataFrame(columns = ['Team', 'Event', 'Event Number', 'Average Degradation', 'No of Laps', 'Average Lap Time'])\n",
    "ranking_df = pd.DataFrame(columns = ['Team', 'Event', 'Event Number', 'Degradation Rank', 'Lap Time Rank'])\n",
    "rankingchange_df = pd.DataFrame(columns = ['Degradation Change', 'Lap Time Change'])\n",
    "difference_df = pd.DataFrame(columns = ['Team', 'Event', 'Event Number', 'Delta Degradation', 'Delta Laptime'])\n",
    "differencechange_df = pd.DataFrame(columns = ['Degradation Change', 'Lap Time Change'])\n",
    "\n",
    "\n",
    "##-----Variables-----##\n",
    "number = 1\n",
    "lap_time_value = 0\n",
    "new_value = 0\n",
    "std_error_dev = 0\n",
    "std_error_mean = 0\n",
    "std_error_min = 0\n",
    "std_error_max = 0\n",
    "slope_dev = 0\n",
    "slope_mean = 0\n",
    "slope_min = 0\n",
    "slope_max = 0\n",
    "no_of_laps = 0\n",
    "laps_till_end = 0\n",
    "team = ''\n",
    "compound = ''\n",
    "avg_laptime = 0\n",
    "slope = 0\n",
    "intercept = 0\n",
    "r_value = 0\n",
    "p_value = 0\n",
    "std_err = 0\n",
    "avg_deg = 0\n",
    "compound_laps = 0\n",
    "delta_laptime = 0\n",
    "deg_slope = 0\n",
    "time_slope = 0\n",
    "event_number = 0\n",
    "min_deg = 0\n",
    "min_lap = 0\n",
    "delta_deg = 0"
   ],
   "metadata": {
    "collapsed": false
   }
  },
  {
   "cell_type": "code",
   "execution_count": 17,
   "outputs": [],
   "source": [
    "##-----Functions-----##\n",
    "def getLaps(fyear, fevent):\n",
    "    session = ff1.get_event(fyear, fevent).get_race()\n",
    "    session.load()\n",
    "    laps = session.laps\n",
    "    laps = laps.pick_accurate().pick_track_status('1')\n",
    "    return laps\n",
    "\n",
    "def fuelDelta(flaps_df):\n",
    "    max_laps = flaps_df['LapNumber'].max()\n",
    "    delta_fuel_mass = MAXWEIGHT / max_laps #Kgs of fuel lost for each lap\n",
    "    fuel_delta = MASSTIMECOEFF * delta_fuel_mass #Coefficient of weight vs time x kgs per lap\n",
    "    return (max_laps, fuel_delta)\n",
    "\n",
    "def groupLaps(fdataframe, fname):\n",
    "    groupedDataframe = fdataframe.groupby(fname)\n",
    "    return groupedDataframe\n",
    "\n",
    "def baseLapTime(fdataframe):\n",
    "    dict = {}\n",
    "\n",
    "    baseline_df = fdataframe[fdataframe['Team'] == FASTEST_TEAM] #Filter dataframe so that only Red Bull Racing is used\n",
    "    groupedDataframe = groupLaps(baseline_df, 'Compound') #Group baseline_df by the Compound\n",
    "\n",
    "    for compound_name, compound_df in groupedDataframe:\n",
    "        dict[compound_name] = compound_df['Average Lap Time'].mean() #For each compound calculate the mean lap time and save it to a dictionary\n",
    "\n",
    "    return dict"
   ],
   "metadata": {
    "collapsed": false
   }
  },
  {
   "cell_type": "code",
   "execution_count": 18,
   "outputs": [],
   "source": [
    "##-----Get Event List-----##\n",
    "event_list = ff1.get_event_schedule(YEAR, include_testing=False)[['EventName', 'RoundNumber']]\n",
    "event_dict = event_list.set_index('EventName').to_dict()['RoundNumber'] #Creates a dictionary which can reference the Event Name vs the Round Number\n",
    "event_list = ff1.get_event_schedule(YEAR, include_testing=False)['EventName'].to_list()"
   ],
   "metadata": {
    "collapsed": false
   }
  },
  {
   "cell_type": "code",
   "execution_count": null,
   "outputs": [],
   "source": [
    "##-----Take All Data from Year & Convert into Excel Base-----##\n",
    "with pd.ExcelWriter(FILE_NAME) as writer:\n",
    "    for event in event_list:\n",
    "        ##Load & Initalise laps for each event##\n",
    "        laps = getLaps(YEAR, event)\n",
    "\n",
    "        ##Calculate the time loss in seconds per lap due to fuel##\n",
    "        max_laps, fuel_delta = fuelDelta(laps)\n",
    "\n",
    "\n",
    "        for row in laps.itertuples(index = True):\n",
    "            index = row.Index\n",
    "\n",
    "            lap_time_value = row.LapTime\n",
    "\n",
    "            ##Change in time per lap times the number of laps passed##\n",
    "            new_value = lap_time_value + pd.Timedelta(seconds = (fuel_delta * (row.LapNumber - 1)))\n",
    "\n",
    "            laps.at[index, 'FuelAdjustedLapTime'] = new_value #Assign new value\n",
    "\n",
    "\n",
    "        groupedLaps = groupLaps(laps, 'Driver') #Group laps by driver\n",
    "\n",
    "        for driver_name, driver_df in groupedLaps:\n",
    "\n",
    "            groupedStints = groupLaps(driver_df, 'Stint') #Group driver laps by stint number\n",
    "\n",
    "            for stint_name, stint_df in groupedStints:\n",
    "\n",
    "                stint_df['FuelAdjustedLapTime'] = stint_df['FuelAdjustedLapTime'].dt.total_seconds() #Convert laptime from TimeDelta to seconds\n",
    "\n",
    "                ##Calculate number of laps in the stint, number of laps till end, team, compound used, average laptime##\n",
    "                no_of_laps = len(stint_df)\n",
    "                laps_till_end = max_laps - stint_df['LapNumber'].min()\n",
    "                team = stint_df['Team'].iloc[0]\n",
    "                compound = stint_df['Compound'].iloc[0]\n",
    "                avg_laptime = stint_df['FuelAdjustedLapTime'].mean()\n",
    "\n",
    "                slope, intercept, r_value, p_value, std_err = linregress(stint_df['LapNumber'], stint_df['FuelAdjustedLapTime'])\n",
    "\n",
    "                regression_df.loc[f'{driver_name} -  Stint {stint_name}'] = [compound, slope, intercept, r_value, std_err, no_of_laps, laps_till_end, team, avg_laptime]\n",
    "                    #Add new row to the regression dataframe for each event\n",
    "\n",
    "                row_df = pd.DataFrame([{'Driver': driver_name, 'Stint': stint_name, 'Compound': compound, 'Slope': slope, 'Intercept': intercept, 'R Value': r_value, 'Standard Error': std_err, 'No of Laps': no_of_laps, 'Laps Till End': laps_till_end, 'Team': team, 'Grand Prix': event, 'Average Lap Time': avg_laptime}])\n",
    "                    #Can't use simpler .loc[] because the key repeats multiple times - e.g. ALB - Stint 1 can happen multiple times in multiple races\n",
    "\n",
    "                fullregression_df = pd.concat([fullregression_df, row_df], ignore_index=True)\n",
    "                    #Add new row to the regression dataframe for all events\n",
    "\n",
    "        regression_df.to_excel(writer, sheet_name=event)\n",
    "    fullregression_df.to_excel(writer, sheet_name='Full Season', index = False)\n",
    "\n",
    "master_fullregression_df = fullregression_df #Save to a master copy so that any changes made by mistake can be reverted"
   ],
   "metadata": {
    "collapsed": false
   }
  },
  {
   "cell_type": "code",
   "execution_count": 20,
   "outputs": [],
   "source": [
    "fullregression_df = master_fullregression_df #Code to access master copy in case of mistake"
   ],
   "metadata": {
    "collapsed": false
   }
  },
  {
   "cell_type": "code",
   "execution_count": 21,
   "outputs": [],
   "source": [
    "##-----Filter Data-----##\n",
    "fullregression_df = fullregression_df[(fullregression_df['No of Laps'] > 5) & (fullregression_df['Laps Till End'] > 9) & (fullregression_df['Compound'] != 'INTERMEDIATE') & (fullregression_df['Compound'] != 'WET')]\n",
    "    #Filters the full regression so that Number of Laps > 5; Laps Till End > 9 and the Compound is not Wet or Intermediate\n",
    "\n",
    "##Calculate two Standard Deviations of the 'Standard Error' Column##\n",
    "std_error_dev = fullregression_df['Standard Error'].std()\n",
    "std_error_mean = fullregression_df['Standard Error'].mean()\n",
    "std_error_min = std_error_mean - 2 * std_error_dev\n",
    "std_error_max = std_error_mean + 2 * std_error_dev\n",
    "\n",
    "##Calculate two Standard Deviations of the 'Slope' Column##\n",
    "slope_dev = fullregression_df['Slope'].std()\n",
    "slope_mean = fullregression_df['Slope'].mean()\n",
    "slope_min = slope_mean - 2 * slope_dev\n",
    "slope_max = slope_mean + 2 * slope_dev\n",
    "\n",
    "\n",
    "fullregression_df = fullregression_df[(fullregression_df['Standard Error'] >= std_error_min) & (fullregression_df['Standard Error'] <= std_error_max) & (fullregression_df['Slope'] >= slope_min) & (fullregression_df['Slope'] <= slope_max)]\n",
    "    #Filters the full regression further so that all values lie within two standard deviations on a normal distribution\n",
    "\n",
    "filteredregression_df = fullregression_df #Save to an editable copy so that any changes are not done to the master sheet\n",
    "\n",
    "##Write into a new sheet in the Excel Workbook##\n",
    "with pd.ExcelWriter(FILE_NAME,engine='openpyxl', mode = 'a') as writer:\n",
    "    filteredregression_df.to_excel(writer, sheet_name='Filtered Full Season', index = False)"
   ],
   "metadata": {
    "collapsed": false
   }
  },
  {
   "cell_type": "code",
   "execution_count": 22,
   "outputs": [],
   "source": [
    "##-----Compare Degradation for each Compound-----##\n",
    "groupedLaps = groupLaps(filteredregression_df, 'Team') #Group the filtered regression by Team\n",
    "baseline_dict = baseLapTime(filteredregression_df) #Calculate the mean lap time for each tyre by the fastest team (i.e. Red Bull Racing)\n",
    "\n",
    "with pd.ExcelWriter(FILE_NAME,engine='openpyxl', mode = 'a') as writer:\n",
    "    for team_name, team_df in groupedLaps:\n",
    "\n",
    "        groupedCompounds = groupLaps(team_df, 'Compound') #Group each teams regression by Compound\n",
    "\n",
    "        for compound_name, compound_df in groupedCompounds:\n",
    "\n",
    "            ##Calculate average degradation; number of laps on the compound; average lap time; difference to the fastest teams lap time\n",
    "            avg_deg = compound_df['Slope'].mean()\n",
    "            compound_laps = compound_df['No of Laps'].sum()\n",
    "            avg_laptime = compound_df['Average Lap Time'].mean()\n",
    "            delta_laptime = avg_laptime - baseline_dict[compound_name]\n",
    "\n",
    "            avgdeg_df.loc[number] = [team_name, compound_name, avg_deg, compound_laps, avg_laptime, delta_laptime]\n",
    "\n",
    "            number += 1\n",
    "    avgdeg_df.to_excel(writer, sheet_name='Degradation Comparison', index = False)"
   ],
   "metadata": {
    "collapsed": false
   }
  },
  {
   "cell_type": "code",
   "execution_count": 23,
   "outputs": [],
   "source": [
    "##-----Compare average degradation for each team for each event-----##\n",
    "groupedLaps = groupLaps(filteredregression_df, 'Grand Prix') #Group filtered regression by the Grand Prix\n",
    "\n",
    "with pd.ExcelWriter(FILE_NAME,engine='openpyxl', mode = 'a') as writer:\n",
    "    for event_name, event_df in groupedLaps:\n",
    "\n",
    "        groupedTeams = groupLaps(event_df, 'Team') #Group event regression by Team\n",
    "\n",
    "        for team_name, team_df in groupedTeams:\n",
    "\n",
    "            ##Calculate average degradation, number of laps run, average laptime at the event##\n",
    "            avg_deg = team_df['Slope'].mean()\n",
    "            no_of_laps = team_df['No of Laps'].sum()\n",
    "            avg_laptime = team_df['Average Lap Time'].mean()\n",
    "            event_number = event_dict[event_name]\n",
    "\n",
    "            eventdeg_df.loc[number] = [team_name, event_name, event_number, avg_deg, no_of_laps, avg_laptime]\n",
    "\n",
    "            number += 1\n",
    "\n",
    "    eventdeg_df.to_excel(writer, sheet_name='Event Degradation Comparison', index = False)"
   ],
   "metadata": {
    "collapsed": false
   }
  },
  {
   "cell_type": "code",
   "execution_count": 24,
   "outputs": [],
   "source": [
    "##-----Calculate a ranking for each team across each event-----##\n",
    "groupedEvents = groupLaps(eventdeg_df, 'Event') #Group event degradation by Event\n",
    "\n",
    "with pd.ExcelWriter(FILE_NAME, engine='openpyxl', mode = 'a') as writer:\n",
    "    for event_name, event_df in groupedEvents:\n",
    "\n",
    "        ##For each event, rank the average degradation and the average lap time##\n",
    "        event_df['Degradation Rank'] = event_df['Average Degradation'].rank()\n",
    "        event_df['Lap Time Rank'] = event_df['Average Lap Time'].rank()\n",
    "        event_df['Event Number'] = event_dict[event_name]\n",
    "\n",
    "        ranking_df = pd.concat([ranking_df, event_df[['Team', 'Event', 'Event Number', 'Degradation Rank', 'Lap Time Rank']]])\n",
    "\n",
    "    ranking_df.to_excel(writer, sheet_name='Team Ranking', index = False)"
   ],
   "metadata": {
    "collapsed": false
   }
  },
  {
   "cell_type": "code",
   "execution_count": 25,
   "outputs": [],
   "source": [
    "##-----Calculate change and movement by teams across the year in regard to degradation and lap time-----##\n",
    "##Convert values into integers from floats to be used by linregress function##\n",
    "ranking_df['Event Number'] = pd.to_numeric(ranking_df['Event Number'], errors='coerce')\n",
    "ranking_df['Degradation Rank'] = pd.to_numeric(ranking_df['Degradation Rank'], errors='coerce')\n",
    "ranking_df['Lap Time Rank'] = pd.to_numeric(ranking_df['Lap Time Rank'], errors='coerce')\n",
    "\n",
    "\n",
    "groupedTeams = groupLaps(ranking_df, 'Team') #Group ranked teams by Team, to get the ranking for each event across the year\n",
    "\n",
    "with pd.ExcelWriter(FILE_NAME, engine='openpyxl', mode = 'a') as writer:\n",
    "    for team_name, team_df in groupedTeams:\n",
    "\n",
    "        ##Calculate slope of Degradation & Lap Time Rank across the Events.##\n",
    "        slope, _, _, _, _  = linregress(team_df['Event Number'], team_df['Degradation Rank']) #_ is used because there is no need for the other values\n",
    "        deg_slope = slope\n",
    "\n",
    "        slope, _, _, _, _  = linregress(team_df['Event Number'], team_df['Lap Time Rank']) #_ is used because there is no need for the other values\n",
    "        time_slope = slope\n",
    "\n",
    "        rankingchange_df.loc[team_name] = [deg_slope, time_slope]\n",
    "    rankingchange_df.to_excel(writer, sheet_name ='Team Ranking Change')"
   ],
   "metadata": {
    "collapsed": false
   }
  },
  {
   "cell_type": "code",
   "execution_count": 38,
   "outputs": [],
   "source": [
    "##-----Calculate the difference in seconds to the best lap time and degradation for each team for each event-----##\n",
    "groupedEvents = groupLaps(eventdeg_df, 'Event') #Group the degradation and lap time by event\n",
    "\n",
    "with pd.ExcelWriter(FILE_NAME, engine='openpyxl', mode='a') as writer:\n",
    "    for event_name, event_df in groupedEvents:\n",
    "\n",
    "        ##Calculate the best degradation and lap time for the race##\n",
    "        min_deg = event_df['Average Degradation'].min()\n",
    "        min_lap = event_df['Average Lap Time'].min()\n",
    "\n",
    "        groupedTeams = groupLaps(event_df, 'Team') #Group the data by Team\n",
    "\n",
    "        for team_name, team_df in groupedTeams:\n",
    "\n",
    "            ##Find the delta to the min_deg & min_lap##\n",
    "            delta_deg = team_df['Average Degradation'].iloc[0] - min_deg\n",
    "            delta_laptime = team_df['Average Lap Time'].iloc[0] - min_lap\n",
    "\n",
    "            event_number = event_dict[event_name]\n",
    "\n",
    "            difference_df.loc[number] = [team_name, event_name, event_number, delta_deg, delta_laptime]\n",
    "\n",
    "            number += 1\n",
    "\n",
    "    difference_df.to_excel(writer, sheet_name='Difference to Best', index=False)"
   ],
   "metadata": {
    "collapsed": false
   }
  },
  {
   "cell_type": "code",
   "execution_count": 41,
   "outputs": [],
   "source": [
    "##-----Find the change in delta_deg and delta_lap for each team across the year-----##\n",
    "groupedTeams = groupLaps(difference_df, 'Team') #Group data by Team, to get the numbers for each event across the year\n",
    "\n",
    "with pd.ExcelWriter(FILE_NAME, engine='openpyxl', mode = 'a') as writer:\n",
    "    for team_name, team_df in groupedTeams:\n",
    "\n",
    "        team_df = team_df.sort_values(by='Event Number', ascending=True) #Sort the event so the graph is in the right order\n",
    "\n",
    "        ##Calculate slope of Degradation & Lap Time Difference across the Events##\n",
    "        slope, _, _, _, _  = linregress(team_df['Event Number'], team_df['Delta Degradation']) #_ is used because there is no need for the other values\n",
    "        deg_slope = slope\n",
    "\n",
    "        slope, _, _, _, _  = linregress(team_df['Event Number'], team_df['Delta Laptime']) #_ is used because there is no need for the other values\n",
    "        time_slope = slope\n",
    "\n",
    "        differencechange_df.loc[team_name] = [deg_slope, time_slope]\n",
    "\n",
    "    differencechange_df.to_excel(writer, sheet_name ='Team Difference Change')"
   ],
   "metadata": {
    "collapsed": false
   }
  }
 ],
 "metadata": {
  "kernelspec": {
   "display_name": "Python 3",
   "language": "python",
   "name": "python3"
  },
  "language_info": {
   "codemirror_mode": {
    "name": "ipython",
    "version": 2
   },
   "file_extension": ".py",
   "mimetype": "text/x-python",
   "name": "python",
   "nbconvert_exporter": "python",
   "pygments_lexer": "ipython2",
   "version": "2.7.6"
  }
 },
 "nbformat": 4,
 "nbformat_minor": 0
}
